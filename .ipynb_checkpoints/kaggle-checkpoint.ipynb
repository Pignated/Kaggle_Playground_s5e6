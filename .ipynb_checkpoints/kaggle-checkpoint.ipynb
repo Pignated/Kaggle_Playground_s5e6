{
 "cells": [
  {
   "cell_type": "code",
   "execution_count": 1,
   "id": "62ae692b",
   "metadata": {
    "editable": true,
    "slideshow": {
     "slide_type": ""
    },
    "tags": []
   },
   "outputs": [],
   "source": [
    "import pandas as pd\n",
    "import numpy as np\n",
    "import seaborn as sns\n",
    "import matplotlib.pyplot as plt\n",
    "from sklearn.ensemble import AdaBoostClassifier, RandomForestClassifier\n",
    "from sklearn.metrics import accuracy_score, confusion_matrix\n",
    "from sklearn.tree import DecisionTreeClassifier\n",
    "from sklearn.model_selection import train_test_split"
   ]
  },
  {
   "cell_type": "code",
   "execution_count": 2,
   "id": "3167eb0b",
   "metadata": {
    "editable": true,
    "slideshow": {
     "slide_type": ""
    },
    "tags": []
   },
   "outputs": [],
   "source": [
    "df = pd.read_csv(\"train.csv\",index_col=0)"
   ]
  },
  {
   "cell_type": "code",
   "execution_count": 3,
   "id": "d04938ef",
   "metadata": {
    "editable": true,
    "slideshow": {
     "slide_type": ""
    },
    "tags": []
   },
   "outputs": [],
   "source": [
    "from sklearn.metrics import make_scorer\n",
    "sample = pd.read_csv(\"sample_submission.csv\",index_col=0)\n",
    "test = pd.read_csv(\"test.csv\",index_col=0)\n",
    "sample\n",
    "def in_top_three_scoring(y_true, y_proba):\n",
    "    top_3_indices = np.flip(np.argsort(y_proba, axis=1)[:, -3:], axis=1)\n",
    "    accurate_counts = 0\n",
    "    for i, val in enumerate(y_true):\n",
    "        if val in top_3_indices[i]:\n",
    "            accurate_counts += 1\n",
    "    return accurate_counts / len(y_true)\n",
    "top_three_scorer = lambda estimator, X, y : in_top_three_scoring(y, estimator.predict_proba(X))\n",
    "def mapper(x):\n",
    "    return fert_encoder.classes_[x]\n",
    "vectorized_mapper = np.vectorize(mapper)\n",
    "def predict_test_values(estimator):\n",
    "    y_test_pred = estimator.predict_proba(test)\n",
    "    y_test_pred_top3 = np.flip(np.argsort(y_test_pred, axis=1)[:, -3:], axis=1)\n",
    "    y_test_pred_strings = vectorized_mapper(y_test_pred_top3)\n",
    "    aaa = np.apply_along_axis(\" \".join, arr=y_test_pred_strings, axis=1)\n",
    "    return aaa"
   ]
  },
  {
   "cell_type": "code",
   "execution_count": null,
   "id": "65caeb68-12e8-4f92-b892-12ecedf303c4",
   "metadata": {
    "editable": true,
    "slideshow": {
     "slide_type": ""
    },
    "tags": []
   },
   "outputs": [
    {
     "name": "stdout",
     "output_type": "stream",
     "text": [
      "Fitting 5 folds for each of 10 candidates, totalling 50 fits\n"
     ]
    }
   ],
   "source": [
    "param_grid = {\n",
    "    'gb__n_estimators': [50, 100, 200],\n",
    "    'gb__learning_rate': [0.01, 0.1, 0.2],\n",
    "    'gb__max_depth': [3, 5, 7],\n",
    "    'gb__subsample': [0.8, 1.0]\n",
    "}\n",
    "from sklearn.compose import make_column_transformer\n",
    "from sklearn.preprocessing import OneHotEncoder, LabelEncoder, StandardScaler\n",
    "from sklearn.ensemble import GradientBoostingClassifier\n",
    "from sklearn.pipeline import Pipeline, make_pipeline\n",
    "from sklearn.model_selection import GridSearchCV, RandomizedSearchCV\n",
    "fert_encoder = LabelEncoder()\n",
    "X = df.drop(columns=['Fertilizer Name'])\n",
    "y=fert_encoder.fit_transform(df['Fertilizer Name'])\n",
    "X_train, X_test, y_train, y_test = train_test_split(X, y, test_size=.2,random_state=42)\n",
    "preprocessor = make_column_transformer((StandardScaler(),(\"Temparature\",\"Humidity\",\"Moisture\",\"Nitrogen\",\"Potassium\",\"Phosphorous\")),(OneHotEncoder(),(\"Soil Type\",\"Crop Type\")))\n",
    "GB_OHE = Pipeline([('proc',preprocessor),('gb',GradientBoostingClassifier())])\n",
    "grid_search_gb = RandomizedSearchCV(GB_OHE, param_grid, cv=5, scoring=top_three_scorer, n_jobs=5,verbose=2)\n",
    "# Use this to test ^ before running full grid search\n",
    "# grid_search_gb = GridSearchCV(GB_OHE, param_grid, cv=5, scoring=top_three_scorer, n_jobs=5,verbose=2)\n",
    "grid_search_gb.fit(X,y)\n",
    "\n"
   ]
  },
  {
   "cell_type": "code",
   "execution_count": null,
   "id": "089bafb3-5f47-4832-814c-c27ff17e1d04",
   "metadata": {
    "editable": true,
    "slideshow": {
     "slide_type": ""
    },
    "tags": []
   },
   "outputs": [],
   "source": [
    "grid_gb = grid_search.best_estimator_\n",
    "print(grid_gb.best_params_)\n",
    "print(grid_gb.best_score_)\n",
    "best_score_gb = make_pipeline(('proc',preprocessor),('gb',GradientBoostingClassifier(verbose=1)))\n",
    "best_score_gb.set_params(**grid_gb.best_params_)\n",
    "best_score_gb.fit(X_train,y_train)\n",
    "y_pred = SGD_OHE.predict_proba(X_test)\n",
    "in_top_three_scoring(y_test,y_pred)\n",
    "print(y_pred)\n",
    "print(in_top_three_scoring(y_test,y_pred))\n",
    "best_score_gb.fit(X,y)\n",
    "sample['Fertilizer Name'] = predict_test_values(best_score_gb)"
   ]
  },
  {
   "cell_type": "code",
   "execution_count": null,
   "id": "5b77cdea-3c77-4fdc-9d2a-f1f2cd066178",
   "metadata": {
    "editable": true,
    "slideshow": {
     "slide_type": ""
    },
    "tags": []
   },
   "outputs": [],
   "source": [
    "sample.to_csv(\"attempt3\")"
   ]
  }
 ],
 "metadata": {
  "kernelspec": {
   "display_name": "Python 3 (ipykernel)",
   "language": "python",
   "name": "python3"
  },
  "language_info": {
   "codemirror_mode": {
    "name": "ipython",
    "version": 3
   },
   "file_extension": ".py",
   "mimetype": "text/x-python",
   "name": "python",
   "nbconvert_exporter": "python",
   "pygments_lexer": "ipython3",
   "version": "3.12.7"
  }
 },
 "nbformat": 4,
 "nbformat_minor": 5
}
